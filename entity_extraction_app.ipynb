{
 "cells": [
  {
   "cell_type": "code",
   "execution_count": null,
   "id": "9f655036-5ee7-4bee-86c0-5a73374f7038",
   "metadata": {},
   "outputs": [
    {
     "name": "stdout",
     "output_type": "stream",
     "text": [
      "openai------------------------v0.27.5\n",
      "pandas------------------------v2.0.2\n",
      "dash--------------------------v2.9.1\n",
      "plotly------------------------v5.13.1\n",
      "dash_bootstrap_components-----v1.3.1\n",
      "plotly------------------------v5.13.1\n",
      "jupyter_dash------------------v0.4.2\n"
     ]
    }
   ],
   "source": [
    "import json\n",
    "\n",
    "from dash import Dash, Input, Output, State, dcc, html\n",
    "from dash.exceptions import PreventUpdate\n",
    "import dash_bootstrap_components as dbc\n",
    "import pandas as pd\n",
    "import plotly.express as px\n",
    "import openai\n",
    "import tiktoken\n",
    "import plotly, jupyter_dash, dash\n",
    "openai.api_key = 'YOU API KEY'\n",
    "\n",
    "openai_model = 'YOUR MODEL NAME'\n",
    "for pkg in [openai, pd, dash, plotly, dbc, plotly, jupyter_dash]:\n",
    "    print(f'{pkg.__name__:-<30}v{pkg.__version__}')"
   ]
  },
  {
   "cell_type": "code",
   "execution_count": null,
   "id": "442b1167-d265-4409-82fe-aeffee9b50b1",
   "metadata": {},
   "outputs": [],
   "source": [
    "def get_completion(prompt, temperature=0, model=openai_model):\n",
    "    response = openai.Completion.create(\n",
    "        prompt = prompt + prompt_end,\n",
    "        max_tokens=500,\n",
    "        stop=[completion_end, prompt_end],\n",
    "        model=model,\n",
    "        temperature=0)\n",
    "    return response\n",
    "    comp =  response.choices[0]['text']\n",
    "    print('#' * 80)\n",
    "    import datetime\n",
    "    print(datetime.datetime.now())\n",
    "    print(comp)\n",
    "    print('#' * 80)\n",
    "    return comp\n",
    "    result_df = pd.DataFrame(\n",
    "        [entity.strip().split(': ') for entity in  comp.split('@@')],\n",
    "        columns=['entity', 'wikipedia_url'])\n",
    "    return result_df\n"
   ]
  },
  {
   "cell_type": "code",
   "execution_count": null,
   "id": "2f626073-6276-4d0c-b1ef-ab4d9a583d86",
   "metadata": {},
   "outputs": [],
   "source": [
    "prompt_end = '\\n\\n%%%%%\\n'\n",
    "completion_end = '\\n\\n^^^^^\\n'\n",
    "\n",
    "\n",
    "def get_completion(prompt, temperature=0, model=openai_model):\n",
    "    response = openai.Completion.create(\n",
    "        prompt = prompt + prompt_end,\n",
    "        max_tokens=500,\n",
    "        stop=[completion_end, prompt_end],\n",
    "        model=model,\n",
    "        temperature=0)\n",
    "    comp =  response.choices[0]['text']\n",
    "    result_df = pd.DataFrame(\n",
    "        [entity.strip().split(': ') for entity in  comp.split('@@')],\n",
    "        columns=['entity', 'wikipedia_url'])\n",
    "    return result_df\n",
    "\n",
    "\n",
    "def openai_resp_to_json(resp_df):\n",
    "    script_open = '<script type=\"application/ld+json\">'\n",
    "    schema_list = [{\n",
    "        \"@context\": \"https://schema.org\",\n",
    "        \"@type\": \"Thing\",\n",
    "        \"name\": entity,\n",
    "        \"url\": url}\n",
    "        for entity, url in resp_df.values]\n",
    "    return script_open +  json.dumps(schema_list) + '</script>'\n",
    "\n",
    "\n",
    "def split_prompt(prompt, max_tokens=1500, model='davinci'):\n",
    "    encoder = tiktoken.encoding_for_model(model)\n",
    "    encoded_txt = encoder.encode(prompt)\n",
    "    split_txt = [encoded_txt[x:x + max_tokens]\n",
    "                 for x in range(0, len(encoded_txt), max_tokens)]\n",
    "    decoded = [encoder.decode(t) for t in split_txt]\n",
    "    return decoded\n"
   ]
  },
  {
   "cell_type": "code",
   "execution_count": null,
   "id": "75ab808d-a144-42bb-b6f8-9ff152c76acb",
   "metadata": {},
   "outputs": [
    {
     "name": "stdout",
     "output_type": "stream",
     "text": [
      "Dash is running on http://127.0.0.1:8050/\n",
      "\n",
      "Dash app running on http://127.0.0.1:8050/\n"
     ]
    }
   ],
   "source": [
    "app = Dash(__name__, external_stylesheets=[dbc.themes.FLATLY])\n",
    "\n",
    "app.layout = html.Div([\n",
    "    dbc.Row([\n",
    "        dbc.Col(lg=1),\n",
    "        dbc.Col([\n",
    "            html.Br(), html.Br(),\n",
    "            dbc.Label('Paste an article:'),\n",
    "            dbc.Textarea(id='user_text', rows=15), html.Br(),\n",
    "            dbc.Button('Extract entities', id='submit_button'), html.Br(),html.Br(),html.Br(),\n",
    "            dcc.Loading(html.Div(id='output'))\n",
    "        ] + [html.Br() for i in range(15)], lg=10)\n",
    "    ])\n",
    "])\n",
    "\n",
    "\n",
    "@app.callback(\n",
    "    Output('output', 'children'),\n",
    "    Input('submit_button', 'n_clicks'),\n",
    "    State('user_text', 'value'))\n",
    "def extract_entites(n_clicks, user_text):\n",
    "    if not n_clicks:\n",
    "        raise PreventUpdate\n",
    "    user_text = split_prompt(user_text)\n",
    "    openai_responses = []\n",
    "    for prompt in user_text:\n",
    "        openai_resp = get_completion(prompt)\n",
    "        openai_responses.append(openai_resp)\n",
    "    df = pd.concat(openai_responses, ignore_index=True).drop_duplicates()\n",
    "    table = dbc.Table.from_dataframe(\n",
    "        df.rename(columns={'entity': 'Entity',\n",
    "                           'wikipedia_url': 'Wikipedia URL'}))\n",
    "    return html.Div(dbc.Tabs([\n",
    "        dbc.Tab(table, label='Table'),\n",
    "        dbc.Tab([\n",
    "            html.Br(),\n",
    "            html.Code(openai_resp_to_json(openai_resp))],\n",
    "            label='JSON-LD')\n",
    "    ]))\n",
    "\n",
    "\n",
    "app.run_server(debug=True)"
   ]
  }
 ],
 "metadata": {
  "kernelspec": {
   "display_name": "python3",
   "language": "python",
   "name": "python3"
  },
  "widgets": {
   "application/vnd.jupyter.widget-state+json": {
    "state": {},
    "version_major": 2,
    "version_minor": 0
   }
  }
 },
 "nbformat": 4,
 "nbformat_minor": 5
}
