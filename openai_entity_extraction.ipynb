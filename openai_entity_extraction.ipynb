{
 "cells": [
  {
   "cell_type": "raw",
   "id": "6d1ab654-9771-4346-a50f-754aebbb17aa",
   "metadata": {},
   "source": [
    "---\n",
    "format:\n",
    "  html:\n",
    "    page-layout: full\n",
    "    toc: true\n",
    "    code-line-numbers: true\n",
    "    theme: bootstrap\n",
    "    embed-resources: true\n",
    "    preload-iframes: true\n",
    "---"
   ]
  },
  {
   "cell_type": "markdown",
   "id": "f92b6656-eef5-49c0-9c9f-640dc4be78a0",
   "metadata": {},
   "source": [
    "# Enriching your web pages with structured data on a large scale using ChatGPT\n",
    "\n",
    "### Train a large language model to figure out how to extract entities, and provide a key piece of information about that entity (its Wikipedia URL)\n",
    "\n",
    "\n",
    "When search engines crawl websites they try their best to get as much information as possible from those pages. Even though there have been massive developments on that front, they are still making guesses at best, using probabilities about the information they are extracting.\n",
    "\n",
    "Providing search engines (or any other apps using our web pages) with structured data makes things much easier, and allows for very interesting applications and usage of our data.\n",
    "\n",
    "In many cases, we are faced with a situation where we have numerous pages that don't contain structured data, but it needs to be done. We can of course take the manual route and classify/tag our content one by one. We can also explore recent advances uses large language models, and training them for the specific task of extracting certain data from our pages, and creating the desired additional markup in the form of JSON-LD scripts. But we are not restricted to that format, once we have access to the data, we can format it any way we want.\n",
    "\n",
    "Here is a quick overview of the problem we might be faced with and the suggested steps to solve it:\n",
    "\n",
    "- We have a large website with (tens or hundreds) of thousands of pages that do not have any structured markup (JSON-LD, Twitter, OpenGraph for example).\n",
    "- We want to create structured markup for those pages\n",
    "- We want to do this on a large scale\n",
    "- We will train an LLM to extract entities from articles, and provide a link to the Wikipedia page of each entity\n",
    "\n",
    "To make things clear, we will provide ChatGPT with an input like the following, which is the summary part a Wikipedia page, \"Basketball\" in this case. Only the first few lines are displayed, and we will later work through the full example:\n",
    "\n",
    "\n",
    "_Basketball is a team sport in which two teams, most commonly of five players each, opposing one another on a rectangular court, compete with the primary objective of shooting a basketball (approximately 9.4 inches (24 cm) in diameter) through the defender's hoop (a basket 18 inches (46 cm) in diameter mounted 10 feet (3.048 m) high to a backboard at each end of the court), while preventing the opposing team from shooting through their own hoop. A field goal is worth two points, unless made from behind the three-point line, when it is worth three..._\n",
    "\n",
    "And we want to get a response as follows: \n",
    "\n",
    "\n",
    "|idx | entity                                          | url                                                                           |\n",
    "|---:|:------------------------------------------------|:------------------------------------------------------------------------------|\n",
    "|  0 | James Naismith                                  | https://en.wikipedia.org/wiki/James_Naismith                                  |\n",
    "|  1 | Springfield, Massachusetts                      | https://en.wikipedia.org/wiki/Springfield,_Massachusetts                      |\n",
    "|  2 | National Basketball Association                 | https://en.wikipedia.org/wiki/National_Basketball_Association                 |\n",
    "|  3 | NBA                                             | https://en.wikipedia.org/wiki/National_Basketball_Association                 |\n",
    "|  4 | EuroLeague                                      | https://en.wikipedia.org/wiki/EuroLeague                                      |\n",
    "|  5 | Basketball Champions League Americas            | https://en.wikipedia.org/wiki/Basketball_Champions_League_Americas            |\n",
    "|  6 | FIBA Basketball World Cup                       | https://en.wikipedia.org/wiki/FIBA_Basketball_World_Cup                       |\n",
    "|  7 | EuroBasket                                      | https://en.wikipedia.org/wiki/EuroBasket                                      |\n",
    "|  8 | FIBA AmeriCup                                   | https://en.wikipedia.org/wiki/FIBA_AmeriCup                                   |\n",
    "|  9 | FIBA Women's Basketball World Cup               | https://en.wikipedia.org/wiki/FIBA_Women%27s_Basketball_World_Cup             |\n",
    "| 10 | WNBA                                            | https://en.wikipedia.org/wiki/Women%27s_National_Basketball_Association       |\n",
    "| 11 | NCAA Women's Division I Basketball Championship | https://en.wikipedia.org/wiki/NCAA_Division_I_women%27s_basketball_tournament |\n",
    "| 12 | EuroLeague Women                                | https://en.wikipedia.org/wiki/EuroLeague_Women                                |\n",
    "\n",
    "\n",
    "It's quite an ambitious goal to automate the process of extracting entities, and not only that, we will also get their respective Wikipedia URLs.\n",
    "\n",
    "Once we have those URLs, it becomes easier to get more information about each entity, as we can scrape that page, search Google, and so on. But we first need that initial starting page. We won't go beyond that step in this article, and we will focus on the process up to this point.\n",
    "\n",
    "Before getting started with coding, let's first make a distinction between normal prompting, and fine-tuned models. Regular prompts are simple instructions or questions, instructing the model to complete a certain task, answer a question, or create some content. It aims to be a universal question/answer machine that can function as your personal assistant. When we fine-tune a model on the other hand, we are training the LLM for a particular task which it will perform much better than a regular prompt, with the limitation of knowing how to perform that task only. It's kind of like the difference between a regular car (normal prompting) and a metro train (fine-tuned models). Your car can be used for various tasks, and can satisfy almost all our transportation needs. A metro train can only do one thing, go from point A to point B and back. It is very limited, but it performs this task extremely well, way better than a car, and on a much larger scale. Here is a quick comparison between these two approaches:\n",
    "\n",
    "\n",
    "Area | Normal prompting | Fine-tuned model\n",
    "-----|------------------|------------------\n",
    "Scope| General          | Specific\n",
    "Training process | Included in prompt | Done by providing many similar consistent examples\n",
    "Generality | Jack of all trades | Very specific tool\n",
    "\n",
    "\n",
    "\n",
    "\n",
    "You have probably already experimented with normal prompts, and for the above task, is would be something like the following: \n",
    "\n",
    "\n",
    "```\n",
    "\"Extract the main entities of the following text, and provide the Wikipedia URL for each, format the response as a table:\n",
    "\n",
    "\n",
    "FULL TEXT GOES HERE\"\n",
    "```\n",
    "\n",
    "These days you are stuck with a paradoxical situation here, which arises from the limitations on prompt length. If you want to get a good response, you need to provide a very detailed prompt with examples, and clear instructions. But the more examples and instructions you provide, the less space you have to provide the content that needs to be processed. The opposite is also true. With a fine tuned model, you only send a piece of text which will function as the prompt. Our trained model will not think about it, or try anything else other than what it was trained for (the above task).\n",
    "\n",
    "\n",
    "Let's quickly go through a simple process of training the LLM with a fine-tuned model: \n",
    "\n",
    "prompt | response\n",
    "-------|---------\n",
    "blue   | be\n",
    "flower | fr\n",
    "book   | bk\n",
    "sea    | sa\n",
    "window | ww\n",
    "car    | cr\n",
    "bag    | `??`\n",
    "\n",
    "Having gone through the examples above, it was probably easy for you to figure out how to complete the last prompt \"bag\", because the examples before it were consistent and clear. Each response has only two letters, and when related to its respective prompt, you can clearly see that it is basically the first and last characters of that prompt. The more examples we provide, the more confident you would be that this is indeed the pattern we are after. The key here then, is to provide numerous, clear, and most importantly, consistent prompt:response pairs.\n",
    "\n",
    "This is exactly how we will train ChatGPT to extract the required entities. Our \"prompt\" will simply be an article and it will figure out what to do with it (provided we did a good job in the training phase).\n",
    "\n",
    "In this sense, our prompts are going to be extremely easy. They would not contain any instructions or clarifications. But the difficulty is in providing a large-enough number of examples where the LLM would be able to clearly get the pattern we are after.\n",
    "\n",
    "## The Training Plan\n",
    "\n",
    "We need to provide a dataset with the following conditions:\n",
    "\n",
    "- A large number of articles (hundreds)\n",
    "- Those articles need to have entities identitied and extracted from them by humans\n",
    "- Not only do we want to get the entities, we need each entity's Wikipedia URL as well\n",
    "\n",
    "Where might we find such a dataset? On Wikipedia itself. It satisfies all those conditions. That was easy. Now the implementation. Fortunately, the Wikipedia API provides a few convenient features to make our job easier. For each article we can download the text along with various interesting elements. We will focus on two of them:\n",
    "\n",
    "- **Summary:** This is the first few paragraphs that we see at the beginning of each article.\n",
    "- **Links:** A list of all links in the article.\n",
    "\n"
   ]
  },
  {
   "cell_type": "code",
   "execution_count": null,
   "id": "1dcce7be-0ccc-44dd-9532-48b95ef5848b",
   "metadata": {},
   "outputs": [],
   "source": [
    "import re\n",
    "import json\n",
    "\n",
    "import advertools as adv\n",
    "import pandas as pd\n",
    "import wikipediaapi\n",
    "pd.options.display.max_columns = None\n",
    "from IPython.display import display_html, display_markdown, IFrame\n",
    "import openai\n",
    "\n",
    "openai.api_key = 'YOUR OPEN AI API KEY'"
   ]
  },
  {
   "cell_type": "markdown",
   "id": "9e492851-785a-4ac9-959b-a200a8472b9b",
   "metadata": {},
   "source": [
    "## Getting data from the Wikipedia API\n",
    "\n",
    "We will first go through the process step-by-step for one Wikipedia article, and then generalize.\n",
    "\n",
    "We first initiate the `Wikipedia` object and then use it to get data for any page. To specify the page we need its slug, the final folder of path part of the URL `https://en.wikipedia.org/wiki/Article_title` \"Article_title\" in this case. This is very important because it is not always easy to infer this part of the URL. In some cases it is straightforward, like `/Pizza` or `/Music`, but in many cases it's not, like `/FIBA_Women's_Basketball_World_Cup`\n",
    "\n",
    "We now create a variable for the page that we want:"
   ]
  },
  {
   "cell_type": "code",
   "execution_count": null,
   "id": "0055475b-a11d-4176-966c-879e77ff5076",
   "metadata": {},
   "outputs": [],
   "source": [
    "wiki_wiki = wikipediaapi.Wikipedia('en')\n",
    "page_basketball = wiki_wiki.page('Basketball')"
   ]
  },
  {
   "cell_type": "code",
   "execution_count": null,
   "id": "f1f8091c-6093-4cfe-87e8-f7303e45f368",
   "metadata": {},
   "outputs": [
    {
     "name": "stdout",
     "output_type": "stream",
     "text": [
      "Basketball is a team sport in which two teams, most commonly of five players each, opposing one another on a rectangular court, compete with the primary objective of shooting a basketball (approximately 9.4 inches (24 cm) in diameter) through the defender's hoop (a basket 18 inches (46 cm) in diameter mounted 10 feet (3.048 m) high to a backboard at each end of the court), while preventing the opposing team from shooting through their own hoop. A field goal is worth two points, unless made from behind the three-point line, when it is worth three. After a foul, timed play stops and the player fouled or designated to shoot a technical foul is given one, two or three one-point free throws. The team with the most points at the end of the game wins, but if regulation play expires with the score tied, an additional period of play (overtime) is mandated.\n",
      "Players advance the ball by bouncing it while walking or running (dribbling) or by passing it to a teammate, both of which require considerable skill. On offense, players may use a variety of shots – the layup, the jump shot, or a dunk; on defense, they may steal the ball from a dribbler, intercept passes, or block shots; either offense or defense may collect a rebound, that is, a missed shot that bounces from rim or backboard. It is a violation to lift or drag one's pivot foot without dribbling the ball, to carry it, or to hold the ball with both hands then resume dribbling.\n",
      "The five players on each side fall into five playing posi\n"
     ]
    }
   ],
   "source": [
    "print(page_basketball.summary[:1500])"
   ]
  },
  {
   "cell_type": "markdown",
   "id": "52c26700-cb0b-48ea-ad57-85d18ec9103e",
   "metadata": {},
   "source": [
    "As you can see, we can request the `summary` attribute of that object to the summary text. Above we have the first few paragraph of the summary.\n",
    "\n",
    "Another interesting attribute that we can get is the `link` attribute. This give us the text of each link, as well as additional information about each link. Here we can see the first few links, and we also print the total number of links to get an idea."
   ]
  },
  {
   "cell_type": "markdown",
   "id": "50e397eb-d45d-499e-8a9c-fba910a0633e",
   "metadata": {},
   "source": [
    "## Getting an article's links"
   ]
  },
  {
   "cell_type": "code",
   "execution_count": null,
   "id": "76fc2fe7-7bdc-44a0-93ec-37ad20dcf6d8",
   "metadata": {},
   "outputs": [
    {
     "name": "stdout",
     "output_type": "stream",
     "text": [
      "1309\n"
     ]
    },
    {
     "data": {
      "text/plain": [
       "[('16-inch softball', 16-inch softball (id: ??, ns: 0)),\n",
       " ('1936 Summer Olympics', 1936 Summer Olympics (id: ??, ns: 0)),\n",
       " ('1979 NBL Season', 1979 NBL Season (id: ??, ns: 0)),\n",
       " ('1992 Summer Olympics', 1992 Summer Olympics (id: ??, ns: 0)),\n",
       " (\"1992 United States men's Olympic basketball team\",\n",
       "  1992 United States men's Olympic basketball team (id: ??, ns: 0)),\n",
       " ('1998 NBL Season', 1998 NBL Season (id: ??, ns: 0)),\n",
       " ('1998–99 NBL season', 1998–99 NBL season (id: ??, ns: 0)),\n",
       " ('1–2–1–1 zone press', 1–2–1–1 zone press (id: ??, ns: 0)),\n",
       " ('1–3–1 defense and offense', 1–3–1 defense and offense (id: ??, ns: 0)),\n",
       " ('2000–01 FIBA SuproLeague', 2000–01 FIBA SuproLeague (id: ??, ns: 0)),\n",
       " ('2004 Summer Olympics', 2004 Summer Olympics (id: ??, ns: 0)),\n",
       " ('2006 FIBA World Championship for Women',\n",
       "  2006 FIBA World Championship for Women (id: ??, ns: 0)),\n",
       " ('2007 Asian Indoor Games', 2007 Asian Indoor Games (id: ??, ns: 0)),\n",
       " (\"2008 United States men's Olympic basketball team\",\n",
       "  2008 United States men's Olympic basketball team (id: ??, ns: 0)),\n",
       " ('2009 Asian Youth Games', 2009 Asian Youth Games (id: ??, ns: 0)),\n",
       " ('2010 FIBA World Championship',\n",
       "  2010 FIBA World Championship (id: ??, ns: 0)),\n",
       " ('2010 Youth Olympics', 2010 Youth Olympics (id: ??, ns: 0)),\n",
       " ('2011 FIBA 3x3 Youth World Championships',\n",
       "  2011 FIBA 3x3 Youth World Championships (id: ??, ns: 0)),\n",
       " ('2012 FIBA 3x3 World Championships',\n",
       "  2012 FIBA 3x3 World Championships (id: ??, ns: 0)),\n",
       " ('2014 FIBA Basketball World Cup',\n",
       "  2014 FIBA Basketball World Cup (id: ??, ns: 0))]"
      ]
     },
     "execution_count": null,
     "metadata": {},
     "output_type": "execute_result"
    }
   ],
   "source": [
    "print(len(page_basketball.links))\n",
    "list(page_basketball.links.items())[:20]"
   ]
  },
  {
   "cell_type": "markdown",
   "id": "de0bdf9d-8720-40b5-bac3-38896a0fd9c0",
   "metadata": {},
   "source": [
    "Those links are scattered all over the article, and what we want now is to find the ones that are present in the summary part of the article. We can do that with a simple regular expression.\n",
    "\n",
    "## Creating a regular expression to extract links which are important entities\n",
    "\n",
    "Since we have the anchor text of each link on the article, the regex will simply be a concatenation of all the links' text, separated by the pipe \"or\" operator. The only other thing we need to cater for, is to sort our links by length. Here is a simple example to illustrate this point. Assume we want to extract any instance of the word \"won\" or \"wonderful\" from a piece of text. Let's test it first the regex `won|wonderful`:"
   ]
  },
  {
   "cell_type": "code",
   "execution_count": null,
   "id": "8e7312c2-ff57-4526-b5a9-0e0eb66acb2b",
   "metadata": {},
   "outputs": [
    {
     "data": {
      "text/plain": [
       "['won', 'won']"
      ]
     },
     "execution_count": null,
     "metadata": {},
     "output_type": "execute_result"
    }
   ],
   "source": [
    "import re\n",
    "\n",
    "text = 'I won the game at the wonderful tournament'\n",
    "\n",
    "re.findall('won|wonderful', text)"
   ]
  },
  {
   "cell_type": "markdown",
   "id": "5e7eb1b6-e3a4-4138-8b0d-05b4fd50d89d",
   "metadata": {},
   "source": [
    "What just happened?\n",
    "\n",
    "The first instance of \"won\", which is the second word in the sentence was extracted correctly, but the second wasn't. Actually it was, but it wasn't what we intended. Because we first specified \"won\", the regex engine starts to look for that pattern, if it doesn't find it, it looks for the other option. In our case it found the second instance of \"won\" right before \"derful\". Once the regex engine extracted the second \"one\", it is now at the \"d\", and from there there aren't any other instances of \"won\". Let's try the same regex, but place the longer pattern before the shorter one:"
   ]
  },
  {
   "cell_type": "code",
   "execution_count": null,
   "id": "08fc4232-cf77-40bf-bdf7-01a5ab25af6d",
   "metadata": {},
   "outputs": [
    {
     "data": {
      "text/plain": [
       "['won', 'wonderful']"
      ]
     },
     "execution_count": null,
     "metadata": {},
     "output_type": "execute_result"
    }
   ],
   "source": [
    "re.findall('wonderful|won', text)"
   ]
  },
  {
   "cell_type": "markdown",
   "id": "88446f6a-83bb-485f-bc60-0a005e6c7be3",
   "metadata": {},
   "source": [
    "It now works as intended. For that reason we will make our link extraction regex sorted by length, in order to avoid this situation.\n",
    "\n",
    "The other thing we want to make sure of is that we want to extract whole words. \n",
    "Assume we want to extract the pattern \"rest\". If the regex engine finds the word \"restaurant\" in the supplied text, it will extract it as a legitimate match for the pattern. But we don't want that. We only want \"rest\" as a complete word. For this, we can use the word boundary pattern in regular expressions `\\b`. Because the backslack is a special character in regex, we escape it by adding another one. Our regex will look like this:\n",
    "\n",
    "`pattern_1\\\\b|\\\\bpattern_2\\\\b|\\\\bpattern_3` and so on. \n",
    "\n",
    "The following code creates the desired regex by:\n",
    "\n",
    "1. Concatenating all anchor texts of our links\n",
    "2. Sorting them by length, in descending order (longer patterns before shorter ones)\n",
    "3. Joining them by the pipe `|` as well as word the word boundary character `\\\\b` from both sides"
   ]
  },
  {
   "cell_type": "code",
   "execution_count": null,
   "id": "257c40c7-b8c5-41d7-a1b2-f7522a0ee972",
   "metadata": {},
   "outputs": [
    {
     "data": {
      "text/plain": [
       "\"List of U.S. high school basketball national player of the year awards\\\\b|\\\\bList of basketball players who have scored 100 points in a single game\\\\b|\\\\bYoung Men's Christian Association Building (Albany, New York)\\\\b|\\\\bCategory:Articles with dead external links from February 2021\\\\b|\\\\bCategory:Articles with disputed statements from January 2019\\\\b|\\\\bCategory:Articles with disputed statements from Janua\""
      ]
     },
     "execution_count": null,
     "metadata": {},
     "output_type": "execute_result"
    }
   ],
   "source": [
    "page_basketball_linksregex = '\\\\b|\\\\b'.join(sorted(page_basketball.links.keys(), key=len, reverse=True))\n",
    "page_basketball_linksregex[:400]"
   ]
  },
  {
   "cell_type": "code",
   "execution_count": null,
   "id": "6d6bae17-65ad-46e3-a8b6-be6af4b2c00c",
   "metadata": {},
   "outputs": [],
   "source": [
    "#| echo: false\n",
    "basketball_summary = page_basketball.summary\n",
    "for i in re.finditer(page_basketball_linksregex, basketball_summary):\n",
    "    basketball_summary = re.sub(i.group(), f'<b>{i.group()}</b>', basketball_summary)"
   ]
  },
  {
   "cell_type": "markdown",
   "id": "1b410ff1-e692-4573-85d3-11bd93cbf627",
   "metadata": {},
   "source": [
    "Here are the first few lines from our summary text, with the anchor text of the entities highlighted so you can get an idea on how this will end up working:"
   ]
  },
  {
   "cell_type": "code",
   "execution_count": null,
   "id": "100b46e6-eacb-4976-97c7-a534661c7873",
   "metadata": {},
   "outputs": [
    {
     "data": {
      "text/html": [
       "Basketball is a team sport in which two teams, most commonly of five players each, opposing one another on a rectangular court, compete with the primary objective of shooting a basketball (approximately 9.4 inches (24 cm) in diameter) through the defender's hoop (a basket 18 inches (46 cm) in diameter mounted 10 feet (3.048 m) high to a backboard at each end of the court), while preventing the opposing team from shooting through their own hoop. A field goal is worth two points, unless made from behind the three-point line, when it is worth three. After a foul, timed play stops and the player fouled or designated to shoot a technical foul is given one, two or three one-point free throws. The team with the most points at the end of the game wins, but if regulation play expires with the score tied, an additional period of play (overtime) is mandated.\n",
       "Players advance the ball by bouncing it while walking or running (dribbling) or by passing it to a teammate, both of which require considerable skill. On offense, players may use a variety of shots – the layup, the jump shot, or a dunk; on defense, they may steal the ball from a dribbler, intercept passes, or block shots; either offense or defense may collect a rebound, that is, a missed shot that bounces from rim or backboard. It is a violation to lift or drag one's pivot foot without dribbling the ball, to carry it, or to hold the ball with both hands then resume dribbling.\n",
       "The five players on each side fall into five playing positions. The tallest player is usually the center, the second-tallest and strongest is the power forward, a slightly shorter but more agile player is the small forward, and the shortest players or the best ball handlers are the shooting guard and the point guard, who implements the coach's game plan by managing the execution of offensive and defensive plays (player positioning). Informally, players may play three-on-three, two-on-two, and one-on-one.\n",
       "Invented in 1891 by Canadian-American gym teacher <b>James Naismith</b> in <b>Springfield, Massachusetts</b>, in the United States, basketball has evolved to become one of the world's most popular and widely viewed sports. The <b>National Basketball Association</b> (<b>NBA</b>) is the most significant professional basketball league in the world in terms of popularity, salaries, talent, and level of competition (drawing most of its talent from U.S. college basketball). Outside North America, the top clubs from national leagues qualify to continental championships such as the <b>EuroLeague</b> and the <b>Basketball Champions League Americas</b>. The <b>FIBA Basketball World Cup</b> and Men's Olympic Basketball Tournament are the major international events of the sport and attract top national teams from around the world. Each continent hosts regional competitions for national teams, like <b>EuroBasket</b> and <b>FIBA AmeriCup</b>.\n",
       "The <b>FIBA Women's Basketball World Cup</b> and Women's Olympic Basketball Tournament feature top national teams from continental championships. The main North American league is the W<b>NBA</b> (<b>NCAA Women's Division I Basketball Championship</b> is also popular), whereas the strongest European clubs participate in the <b>EuroLeague</b> Women."
      ]
     },
     "metadata": {},
     "output_type": "display_data"
    }
   ],
   "source": [
    "#| echo: false\n",
    "#| output: true\n",
    "display_html(basketball_summary, raw=True)"
   ]
  },
  {
   "cell_type": "markdown",
   "id": "9289ee04-1e93-45c1-917d-b3c0b83095b4",
   "metadata": {},
   "source": [
    "We now want to get the link text that have matches in the summary of our article, and place them in a simple dictionary. The keys will be the matched anchor text. The values will the request page from Wikipedia (containing all the relevant data). \n",
    "\n",
    "While setting the values, we will be sending a request to Wikipedia to get new data about the matched page. The end result, which is the `links_wikis` dictionary will contain the full information on each extracted match. We are mainly interested in the name of the entity and its URL, so we can create a simple DataFrame to show the end result that we are looking for."
   ]
  },
  {
   "cell_type": "code",
   "execution_count": null,
   "id": "244ccdc9-22ec-4aad-996f-a913e1697698",
   "metadata": {},
   "outputs": [],
   "source": [
    "links_wikis = {}\n",
    "for match in re.finditer(page_basketball_linksregex, page_basketball.summary):\n",
    "    links_wikis[match.group()] = wiki_wiki.page(match.group())"
   ]
  },
  {
   "cell_type": "markdown",
   "id": "24b28da9-6ac1-43c6-965b-f8bc1e65e8f3",
   "metadata": {},
   "source": [
    "## Structure the entites and their links (extracted from the aritcle's summary)"
   ]
  },
  {
   "cell_type": "code",
   "execution_count": null,
   "id": "f2d345df-7cf9-4d16-8cef-11846a7a8836",
   "metadata": {},
   "outputs": [
    {
     "data": {
      "text/html": [
       "<style type=\"text/css\">\n",
       "</style>\n",
       "<table id=\"T_feaea\">\n",
       "  <caption><h3>Entities in the summary section of the <code>/Basketball</code> wiki</h3></caption>\n",
       "  <thead>\n",
       "    <tr>\n",
       "      <th class=\"blank level0\" >&nbsp;</th>\n",
       "      <th id=\"T_feaea_level0_col0\" class=\"col_heading level0 col0\" >entity</th>\n",
       "      <th id=\"T_feaea_level0_col1\" class=\"col_heading level0 col1\" >url</th>\n",
       "    </tr>\n",
       "  </thead>\n",
       "  <tbody>\n",
       "    <tr>\n",
       "      <th id=\"T_feaea_level0_row0\" class=\"row_heading level0 row0\" >0</th>\n",
       "      <td id=\"T_feaea_row0_col0\" class=\"data row0 col0\" >James Naismith</td>\n",
       "      <td id=\"T_feaea_row0_col1\" class=\"data row0 col1\" >https://en.wikipedia.org/wiki/James_Naismith</td>\n",
       "    </tr>\n",
       "    <tr>\n",
       "      <th id=\"T_feaea_level0_row1\" class=\"row_heading level0 row1\" >1</th>\n",
       "      <td id=\"T_feaea_row1_col0\" class=\"data row1 col0\" >Springfield, Massachusetts</td>\n",
       "      <td id=\"T_feaea_row1_col1\" class=\"data row1 col1\" >https://en.wikipedia.org/wiki/Springfield,_Massachusetts</td>\n",
       "    </tr>\n",
       "    <tr>\n",
       "      <th id=\"T_feaea_level0_row2\" class=\"row_heading level0 row2\" >2</th>\n",
       "      <td id=\"T_feaea_row2_col0\" class=\"data row2 col0\" >National Basketball Association</td>\n",
       "      <td id=\"T_feaea_row2_col1\" class=\"data row2 col1\" >https://en.wikipedia.org/wiki/National_Basketball_Association</td>\n",
       "    </tr>\n",
       "    <tr>\n",
       "      <th id=\"T_feaea_level0_row3\" class=\"row_heading level0 row3\" >3</th>\n",
       "      <td id=\"T_feaea_row3_col0\" class=\"data row3 col0\" >NBA</td>\n",
       "      <td id=\"T_feaea_row3_col1\" class=\"data row3 col1\" >https://en.wikipedia.org/wiki/National_Basketball_Association</td>\n",
       "    </tr>\n",
       "    <tr>\n",
       "      <th id=\"T_feaea_level0_row4\" class=\"row_heading level0 row4\" >4</th>\n",
       "      <td id=\"T_feaea_row4_col0\" class=\"data row4 col0\" >EuroLeague</td>\n",
       "      <td id=\"T_feaea_row4_col1\" class=\"data row4 col1\" >https://en.wikipedia.org/wiki/EuroLeague</td>\n",
       "    </tr>\n",
       "    <tr>\n",
       "      <th id=\"T_feaea_level0_row5\" class=\"row_heading level0 row5\" >5</th>\n",
       "      <td id=\"T_feaea_row5_col0\" class=\"data row5 col0\" >Basketball Champions League Americas</td>\n",
       "      <td id=\"T_feaea_row5_col1\" class=\"data row5 col1\" >https://en.wikipedia.org/wiki/Basketball_Champions_League_Americas</td>\n",
       "    </tr>\n",
       "    <tr>\n",
       "      <th id=\"T_feaea_level0_row6\" class=\"row_heading level0 row6\" >6</th>\n",
       "      <td id=\"T_feaea_row6_col0\" class=\"data row6 col0\" >FIBA Basketball World Cup</td>\n",
       "      <td id=\"T_feaea_row6_col1\" class=\"data row6 col1\" >https://en.wikipedia.org/wiki/FIBA_Basketball_World_Cup</td>\n",
       "    </tr>\n",
       "    <tr>\n",
       "      <th id=\"T_feaea_level0_row7\" class=\"row_heading level0 row7\" >7</th>\n",
       "      <td id=\"T_feaea_row7_col0\" class=\"data row7 col0\" >EuroBasket</td>\n",
       "      <td id=\"T_feaea_row7_col1\" class=\"data row7 col1\" >https://en.wikipedia.org/wiki/EuroBasket</td>\n",
       "    </tr>\n",
       "    <tr>\n",
       "      <th id=\"T_feaea_level0_row8\" class=\"row_heading level0 row8\" >8</th>\n",
       "      <td id=\"T_feaea_row8_col0\" class=\"data row8 col0\" >FIBA AmeriCup</td>\n",
       "      <td id=\"T_feaea_row8_col1\" class=\"data row8 col1\" >https://en.wikipedia.org/wiki/FIBA_AmeriCup</td>\n",
       "    </tr>\n",
       "    <tr>\n",
       "      <th id=\"T_feaea_level0_row9\" class=\"row_heading level0 row9\" >9</th>\n",
       "      <td id=\"T_feaea_row9_col0\" class=\"data row9 col0\" >FIBA Women's Basketball World Cup</td>\n",
       "      <td id=\"T_feaea_row9_col1\" class=\"data row9 col1\" >https://en.wikipedia.org/wiki/FIBA_Women%27s_Basketball_World_Cup</td>\n",
       "    </tr>\n",
       "    <tr>\n",
       "      <th id=\"T_feaea_level0_row10\" class=\"row_heading level0 row10\" >10</th>\n",
       "      <td id=\"T_feaea_row10_col0\" class=\"data row10 col0\" >WNBA</td>\n",
       "      <td id=\"T_feaea_row10_col1\" class=\"data row10 col1\" >https://en.wikipedia.org/wiki/Women%27s_National_Basketball_Association</td>\n",
       "    </tr>\n",
       "    <tr>\n",
       "      <th id=\"T_feaea_level0_row11\" class=\"row_heading level0 row11\" >11</th>\n",
       "      <td id=\"T_feaea_row11_col0\" class=\"data row11 col0\" >NCAA Women's Division I Basketball Championship</td>\n",
       "      <td id=\"T_feaea_row11_col1\" class=\"data row11 col1\" >https://en.wikipedia.org/wiki/NCAA_Division_I_women%27s_basketball_tournament</td>\n",
       "    </tr>\n",
       "    <tr>\n",
       "      <th id=\"T_feaea_level0_row12\" class=\"row_heading level0 row12\" >12</th>\n",
       "      <td id=\"T_feaea_row12_col0\" class=\"data row12 col0\" >EuroLeague Women</td>\n",
       "      <td id=\"T_feaea_row12_col1\" class=\"data row12 col1\" >https://en.wikipedia.org/wiki/EuroLeague_Women</td>\n",
       "    </tr>\n",
       "  </tbody>\n",
       "</table>\n"
      ],
      "text/plain": [
       "<pandas.io.formats.style.Styler>"
      ]
     },
     "execution_count": null,
     "metadata": {},
     "output_type": "execute_result"
    }
   ],
   "source": [
    "ent_link = pd.DataFrame({\n",
    "    'entity': links_wikis.keys(),\n",
    "    'url': [link.fullurl for link in links_wikis.values()]})\n",
    "ent_link.style.set_caption('<h3>Entities in the summary section of the <code>/Basketball</code> wiki</h3>')"
   ]
  },
  {
   "cell_type": "markdown",
   "id": "9a927d64-9d3a-4fda-9061-ba1b00a2581d",
   "metadata": {},
   "source": [
    "Given the \"Basketball\" page, we ended up with a DataFrame that contains entities in its summary part, together with each URL that belongs to each entity.\n",
    "\n",
    "The next step is to format this response in a consistent way so ChatGPT can know exactly how to format the responses for us. The format will be as follows."
   ]
  },
  {
   "cell_type": "markdown",
   "id": "c619ea1b-5069-4a4d-8694-ce89648b805c",
   "metadata": {},
   "source": [
    "## Format the GPT completion in a clear and consistent way\n",
    "\n",
    "```\n",
    "Entity_1: https://en.wikipedia.org/wiki/Entity_1\n",
    "Entity_2: https://en.wikipedia.org/wiki/Entity_2\n",
    "Entity_3: https://en.wikipedia.org/wiki/Entity_3\n",
    "...\n",
    "```"
   ]
  },
  {
   "cell_type": "code",
   "execution_count": null,
   "id": "f81e5576-281e-41b6-a84a-f5034d7e357f",
   "metadata": {},
   "outputs": [
    {
     "name": "stdout",
     "output_type": "stream",
     "text": [
      "James Naismith: https://en.wikipedia.org/wiki/James_Naismith\n",
      "Springfield, Massachusetts: https://en.wikipedia.org/wiki/Springfield,_Massachusetts\n",
      "National Basketball Association: https://en.wikipedia.org/wiki/National_Basketball_Association\n",
      "NBA: https://en.wikipedia.org/wiki/National_Basketball_Association\n",
      "EuroLeague: https://en.wikipedia.org/wiki/EuroLeague\n",
      "Basketball Champions League Americas: https://en.wikipedia.org/wiki/Basketball_Champions_League_Americas\n",
      "FIBA Basketball World Cup: https://en.wikipedia.org/wiki/FIBA_Basketball_World_Cup\n",
      "EuroBasket: https://en.wikipedia.org/wiki/EuroBasket\n",
      "FIBA AmeriCup: https://en.wikipedia.org/wiki/FIBA_AmeriCup\n",
      "FIBA Women's Basketball World Cup: https://en.wikipedia.org/wiki/FIBA_Women%27s_Basketball_World_Cup\n",
      "WNBA: https://en.wikipedia.org/wiki/Women%27s_National_Basketball_Association\n",
      "NCAA Women's Division I Basketball Championship: https://en.wikipedia.org/wiki/NCAA_Division_I_women%27s_basketball_tournament\n",
      "EuroLeague Women: https://en.wikipedia.org/wiki/EuroLeague_Women\n"
     ]
    }
   ],
   "source": [
    "completion = '@@'.join([': '.join(entity) for entity in ent_link.values])\n",
    "print(*completion.split('@@'), sep='\\n')"
   ]
  },
  {
   "cell_type": "markdown",
   "id": "43d9cdf7-7c87-4d77-9bc1-3757767c10ff",
   "metadata": {},
   "source": [
    "We now want to place the prompt/completion pair in the standard JSON format that ChatGPT requires, which is\n",
    "\n",
    "`{\"prompt\": \"prompt text goes here\", \"completion\": \"completion text goes here\"}`\n",
    "\n",
    "## Combine prompts and their completions in a JSON format saved in a jsonlines file (this is our \"training\")"
   ]
  },
  {
   "cell_type": "code",
   "execution_count": null,
   "id": "45b0faf2-6eb8-426b-a704-1da30bdf9485",
   "metadata": {},
   "outputs": [
    {
     "name": "stdout",
     "output_type": "stream",
     "text": [
      "{\"prompt\": \"Basketball is a team sport in which two teams, most commonly of five players each, opposing one another on a rectangular court, compete with the primary objective of shooting a basketball (approximately 9.4 inches (24 cm) in diameter) through the defender's hoop (a basket 18 inches (46 cm) in diameter mounted 10 feet (3.048 m) high to a backboard at each end of the court), while preventing the opposing team from shooting through their own hoop. A field goal is worth two points, unless made from behind the three-point line, when it is worth three. After a foul, timed play stops and the player fouled or designated to shoot a technical foul is given one, two or three one-point free throws. The team with the most points at the end of the game wins, but if regulation play expires with the score tied, an additional period of play (overtime) is mandated.\\nPlayers advance the ball by bouncing it while walking or running (dribbling) or by passing it to a teammate, both of which require considerable skill. On offense, players may use a variety of shots \\u2013 the layup, the jump shot, or a dunk; on defense, they may steal the ball from a dribbler, intercept passes, or block shots; either offense or defense may collect a rebound, that is, a missed shot that bounces from rim or backboard. It is a violation to lift or drag one's pivot foot without dribbling the ball, to carry it, or to hold the ball with both hands then resume dribbling.\\nThe five players on each side fall into five playing positions. The tallest player is usually the center, the second-tallest and strongest is the power forward, a slightly shorter but more agile player is the small forward, and the shortest players or the best ball handlers are the shooting guard and the point guard, who implements the coach's game plan by managing the execution of offensive and defensive plays (player positioning). Informally, players may play three-on-three, two-on-two, and one-on-one.\\nInvented in 1891 by Canadian-American gym teacher James Naismith in Springfield, Massachusetts, in the United States, basketball has evolved to become one of the world's most popular and widely viewed sports. The National Basketball Association (NBA) is the most significant professional basketball league in the world in terms of popularity, salaries, talent, and level of competition (drawing most of its talent from U.S. college basketball). Outside North America, the top clubs from national leagues qualify to continental championships such as the EuroLeague and the Basketball Champions League Americas. The FIBA Basketball World Cup and Men's Olympic Basketball Tournament are the major international events of the sport and attract top national teams from around the world. Each continent hosts regional competitions for national teams, like EuroBasket and FIBA AmeriCup.\\nThe FIBA Women's Basketball World Cup and Women's Olympic Basketball Tournament feature top national teams from continental championships. The main North American league is the WNBA (NCAA Women's Division I Basketball Championship is also popular), whereas the strongest European clubs participate in the EuroLeague Women.\", \"completion\": \"James Naismith: https://en.wikipedia.org/wiki/James_Naismith@@Springfield, Massachusetts: https://en.wikipedia.org/wiki/Springfield,_Massachusetts@@National Basketball Association: https://en.wikipedia.org/wiki/National_Basketball_Association@@NBA: https://en.wikipedia.org/wiki/National_Basketball_Association@@EuroLeague: https://en.wikipedia.org/wiki/EuroLeague@@Basketball Champions League Americas: https://en.wikipedia.org/wiki/Basketball_Champions_League_Americas@@FIBA Basketball World Cup: https://en.wikipedia.org/wiki/FIBA_Basketball_World_Cup@@EuroBasket: https://en.wikipedia.org/wiki/EuroBasket@@FIBA AmeriCup: https://en.wikipedia.org/wiki/FIBA_AmeriCup@@FIBA Women's Basketball World Cup: https://en.wikipedia.org/wiki/FIBA_Women%27s_Basketball_World_Cup@@WNBA: https://en.wikipedia.org/wiki/Women%27s_National_Basketball_Association@@NCAA Women's Division I Basketball Championship: https://en.wikipedia.org/wiki/NCAA_Division_I_women%27s_basketball_tournament@@EuroLeague Women: https://en.wikipedia.org/wiki/EuroLeague_Women\"}\n"
     ]
    }
   ],
   "source": [
    "print(json.dumps({\"prompt\":page_basketball.summary,\"completion\":completion}))"
   ]
  },
  {
   "cell_type": "code",
   "execution_count": null,
   "id": "37645b00-1fca-49b3-8644-393bc91d660e",
   "metadata": {},
   "outputs": [],
   "source": [
    "# for link, name in links_wikis.items():\n",
    "#     display_markdown(f'### {link}', raw=True)\n",
    "#     display_markdown(name.summary, raw=True)\n",
    "#     print()"
   ]
  },
  {
   "cell_type": "markdown",
   "id": "aded12f7-6c61-44c4-9aff-a1411fff7e92",
   "metadata": {},
   "source": [
    "Now that we have done this for one Wikipedia page, we are ready to combine all these steps into one function. This function will take a Wikipedia page as an input, and returns the JSON object as we did in the last step.\n",
    "\n",
    "> Important note on formatting prompts and responses: There needs to be a clear indication on where the prompt ends, and where the completion ends. It can be anything, and a highly unlikely text pattern to use is a good choice, for example two newlin characters following by a bunch of dollar signs.\n",
    "\n",
    "## Create a function that take a Wikipedia slug e.g. `/Basketball` and returns the desired JSON string\n",
    "\n",
    "This combines all steps taken so far. In the function \"ner\" stands for \"named entity recognition\"."
   ]
  },
  {
   "cell_type": "code",
   "execution_count": null,
   "id": "374b5d33-b19b-48ce-adbe-ce0fa34c1bcd",
   "metadata": {},
   "outputs": [],
   "source": [
    "prompt_end = '\\n\\n%%%%%\\n'\n",
    "completion_end = '\\n\\n^^^^^\\n'\n",
    "\n",
    "def wikipedia_ner(page):\n",
    "    wikipage = wiki_wiki.page(page)\n",
    "    page_links_regex = '\\\\b|\\\\b'.join(sorted(wikipage.links.keys(), key=len, reverse=True))\n",
    "    links_wikis = {}\n",
    "    for match in re.finditer(page_links_regex, wikipage.summary):\n",
    "        links_wikis[match.group()] = wiki_wiki.page(match.group())\n",
    "    ent_link = pd.DataFrame({\n",
    "        'entity': links_wikis.keys(),\n",
    "        'url': [link.fullurl for link in links_wikis.values()]})\n",
    "    completion = ' ' + '@@'.join([': '.join(entity) for entity in ent_link.values])\n",
    "    training_dict = {\n",
    "        'prompt': wikipage.summary + prompt_end,\n",
    "        'completion': completion + completion_end}\n",
    "    return json.dumps(training_dict)"
   ]
  },
  {
   "cell_type": "markdown",
   "id": "abb144e2-5b2d-401f-b266-8d7e6a540e27",
   "metadata": {},
   "source": [
    "## Test it again with `/Basketball`\n",
    "\n",
    "Now that we have abstracted away all the steps into one command, let's see how it works with the same page that we started with."
   ]
  },
  {
   "cell_type": "code",
   "execution_count": null,
   "id": "fd9c39f5-eead-4d74-a5a3-6cab4445f3bb",
   "metadata": {},
   "outputs": [],
   "source": [
    "basketball = wikipedia_ner('Basketball')"
   ]
  },
  {
   "cell_type": "code",
   "execution_count": null,
   "id": "3c136a01-46bc-461a-8a16-251971e1929d",
   "metadata": {},
   "outputs": [
    {
     "name": "stdout",
     "output_type": "stream",
     "text": [
      "Basketball is a team sport in which two teams, most commonly of five players each, opposing one another on a rectangular court, compete with the primary objective of shooting a basketball (approximately 9.4 inches (24 cm) in diameter) through the defender's hoop (a basket 18 inches (46 cm) in diameter mounted 10 feet (3.048 m) high to a backboard at each end of the court), while preventing the opposing team from shooting through their own hoop. A field goal is worth two points, unless made from behind the three-point line, when it is worth three. After a foul, timed play stops and the player fouled or designated to shoot a technical foul is given one, two or three one-point free throws. The team with the most points at the end of the game wins, but if regulation play expires with the score tied, an additional period of play (overtime) is mandated.\n",
      "Players advance the ball by bouncing it while walking or running (dribbling) or by passing it to a teammate, both of which require considerable skill. On offense, players may use a variety of shots – the layup, the jump shot, or a dunk; on defense, they may steal the ball from a dribbler, intercept passes, or block shots; either offense or defense may collect a rebound, that is, a missed shot that bounces from rim or backboard. It is a violation to lift or drag one's pivot foot without dribbling the ball, to carry it, or to hold the ball with both hands then resume dribbling.\n",
      "The five players on each side fall into five playing positions. The tallest player is usually the center, the second-tallest and strongest is the power forward, a slightly shorter but more agile player is the small forward, and the shortest players or the best ball handlers are the shooting guard and the point guard, who implements the coach's game plan by managing the execution of offensive and defensive plays (player positioning). Informally, players may play three-on-three, two-on-two, and one-on-one.\n",
      "Invented in 1891 by Canadian-American gym teacher James Naismith in Springfield, Massachusetts, in the United States, basketball has evolved to become one of the world's most popular and widely viewed sports. The National Basketball Association (NBA) is the most significant professional basketball league in the world in terms of popularity, salaries, talent, and level of competition (drawing most of its talent from U.S. college basketball). Outside North America, the top clubs from national leagues qualify to continental championships such as the EuroLeague and the Basketball Champions League Americas. The FIBA Basketball World Cup and Men's Olympic Basketball Tournament are the major international events of the sport and attract top national teams from around the world. Each continent hosts regional competitions for national teams, like EuroBasket and FIBA AmeriCup.\n",
      "The FIBA Women's Basketball World Cup and Women's Olympic Basketball Tournament feature top national teams from continental championships. The main North American league is the WNBA (NCAA Women's Division I Basketball Championship is also popular), whereas the strongest European clubs participate in the EuroLeague Women.\n",
      "\n",
      "%%%%%\n",
      "\n"
     ]
    }
   ],
   "source": [
    "print(json.loads(basketball)['prompt'])"
   ]
  },
  {
   "cell_type": "code",
   "execution_count": null,
   "id": "45b20e0d-552d-49e9-8aa3-be9000e084f4",
   "metadata": {},
   "outputs": [
    {
     "name": "stdout",
     "output_type": "stream",
     "text": [
      " James Naismith: https://en.wikipedia.org/wiki/James_Naismith\n",
      "Springfield, Massachusetts: https://en.wikipedia.org/wiki/Springfield,_Massachusetts\n",
      "National Basketball Association: https://en.wikipedia.org/wiki/National_Basketball_Association\n",
      "NBA: https://en.wikipedia.org/wiki/National_Basketball_Association\n",
      "EuroLeague: https://en.wikipedia.org/wiki/EuroLeague\n",
      "Basketball Champions League Americas: https://en.wikipedia.org/wiki/Basketball_Champions_League_Americas\n",
      "FIBA Basketball World Cup: https://en.wikipedia.org/wiki/FIBA_Basketball_World_Cup\n",
      "EuroBasket: https://en.wikipedia.org/wiki/EuroBasket\n",
      "FIBA AmeriCup: https://en.wikipedia.org/wiki/FIBA_AmeriCup\n",
      "FIBA Women's Basketball World Cup: https://en.wikipedia.org/wiki/FIBA_Women%27s_Basketball_World_Cup\n",
      "WNBA: https://en.wikipedia.org/wiki/Women%27s_National_Basketball_Association\n",
      "NCAA Women's Division I Basketball Championship: https://en.wikipedia.org/wiki/NCAA_Division_I_women%27s_basketball_tournament\n",
      "EuroLeague Women: https://en.wikipedia.org/wiki/EuroLeague_Women\n",
      "\n",
      "^^^^^\n",
      "\n"
     ]
    }
   ],
   "source": [
    "print(*json.loads(basketball)['completion'].split('@@'), sep='\\n')"
   ]
  },
  {
   "cell_type": "markdown",
   "id": "d0b10a7e-56b6-4279-bcd5-2acab13165f0",
   "metadata": {},
   "source": [
    "Now let's do this on a large scale.\n",
    "\n",
    "## Get a thousand Wikipedia URLs/slugs of popular pages, extract entities and links\n",
    "\n",
    "We want to find a random list of Wikipedia URLs and get their summary text, together with the extracted entities (and their URLs). For this we will be using advertools, which is a Python package that has, among other things an [SEO crawler](https://advertools.readthedocs.io/en/master/advertools.spider.html).\n",
    "\n",
    "We will prefer to get the data for popular Wikipedia pages. The reason is that the more popular a page, the more people will be working on editing it, and therefore the quality of the extracted entities will be better. The following code starts with the listing of the most viewed twenty five Wikipedia pages, and follows links from there. I have included comments on each line explaining a bit more about what it does."
   ]
  },
  {
   "cell_type": "code",
   "execution_count": null,
   "id": "4a778695-6a5c-4fd0-894b-744d1497597e",
   "metadata": {},
   "outputs": [],
   "source": [
    "adv.crawl(\n",
    "    url_list='https://en.wikipedia.org/wiki/Wikipedia:Top_25_Report',\n",
    "    output_file='wiki_crawl.jl',\n",
    "    # for each crawled page, should the crawler follow discovered links?\n",
    "    # this is also known as \"spider mode\" as opposed to \"list mode\" where \n",
    "    # only the given URLs are crawled\n",
    "    follow_links=True,\n",
    "    # out of the disovered links, which ones should the crawler follow?\n",
    "    # follow links that match the following regex:\n",
    "    include_url_regex='https://en.wikipedia.org/wiki/[A-Z].+',\n",
    "    # same as the previous parameter, but for exclusion, this is to prevent\n",
    "    # following fragments\n",
    "    exclude_url_regex='#',\n",
    "    # further customization of the crawling process\n",
    "    custom_settings={\n",
    "        # stop crawling after a certain number of pages\n",
    "        'CLOSESPIDER_PAGECOUNT': 1500,\n",
    "        # save the logs of the crawl process in this file (good for debugging)\n",
    "        'LOG_FILE': 'wiki_crawl.jl',\n",
    "        # save the details of the current crawl job to a folder, so we can\n",
    "        # pause/resume the crawl without having to re-crawl the same pages again\n",
    "        'JOBDIR': 'wikicrawl_job'\n",
    "    })"
   ]
  },
  {
   "cell_type": "markdown",
   "id": "ad8945e8-6383-4346-84ab-0dd584abf5c5",
   "metadata": {},
   "source": [
    "Crawl dataset overview:"
   ]
  },
  {
   "cell_type": "code",
   "execution_count": null,
   "id": "dcfce283-4b39-4fdc-812b-7add1ee4fc27",
   "metadata": {},
   "outputs": [
    {
     "data": {
      "text/html": [
       "<div>\n",
       "<style scoped>\n",
       "    .dataframe tbody tr th:only-of-type {\n",
       "        vertical-align: middle;\n",
       "    }\n",
       "\n",
       "    .dataframe tbody tr th {\n",
       "        vertical-align: top;\n",
       "    }\n",
       "\n",
       "    .dataframe thead th {\n",
       "        text-align: right;\n",
       "    }\n",
       "</style>\n",
       "<table border=\"1\" class=\"dataframe\">\n",
       "  <thead>\n",
       "    <tr style=\"text-align: right;\">\n",
       "      <th></th>\n",
       "      <th>url</th>\n",
       "    </tr>\n",
       "  </thead>\n",
       "  <tbody>\n",
       "    <tr>\n",
       "      <th>0</th>\n",
       "      <td>https://en.wikipedia.org/wiki/Wikipedia:Top_25...</td>\n",
       "    </tr>\n",
       "    <tr>\n",
       "      <th>1</th>\n",
       "      <td>https://en.wikipedia.org/wiki/ChatGPT</td>\n",
       "    </tr>\n",
       "    <tr>\n",
       "      <th>2</th>\n",
       "      <td>https://en.wikipedia.org/wiki/Wikipedia:Humor</td>\n",
       "    </tr>\n",
       "  </tbody>\n",
       "</table>\n",
       "</div>"
      ],
      "text/plain": [
       "                                                 url\n",
       "0  https://en.wikipedia.org/wiki/Wikipedia:Top_25...\n",
       "1              https://en.wikipedia.org/wiki/ChatGPT\n",
       "2      https://en.wikipedia.org/wiki/Wikipedia:Humor"
      ]
     },
     "execution_count": null,
     "metadata": {},
     "output_type": "execute_result"
    }
   ],
   "source": [
    "wiki_crawl = pd.read_json('wiki_crawl_urls.jl', lines=True)\n",
    "wiki_crawl.head(3)"
   ]
  },
  {
   "cell_type": "markdown",
   "id": "ab5a7a34-2ec2-420e-8825-8e5e35b905e8",
   "metadata": {},
   "source": [
    "Extract URL slugs from crawled pages."
   ]
  },
  {
   "cell_type": "code",
   "execution_count": null,
   "id": "7ff8bfac-55db-4d8f-aebc-d7c2d0b6c080",
   "metadata": {},
   "outputs": [
    {
     "data": {
      "text/plain": [
       "['ChatGPT',\n",
       " 'Mario',\n",
       " 'Netflix',\n",
       " 'GPT-3',\n",
       " 'Language_models',\n",
       " 'LLaMA',\n",
       " 'Meta_AI',\n",
       " 'Bard_(chatbot)',\n",
       " 'Ambedkar_Jayanti',\n",
       " 'The_Greatest_Indian',\n",
       " 'The_Matrix',\n",
       " 'Dalai_Lama',\n",
       " 'Academic_plagiarism',\n",
       " 'Hyderabad',\n",
       " 'B._R._Ambedkar',\n",
       " 'Bon_Jovi',\n",
       " 'Mahatma_Gandhi',\n",
       " 'Mario_Bros.',\n",
       " 'Satoru_Iwata',\n",
       " 'San_Diego_Comic-Con',\n",
       " 'A_Perfect_Crime_(TV_series)',\n",
       " 'If',\n",
       " 'V_Wars',\n",
       " 'When_They_See_Us',\n",
       " 'AJ_and_the_Queen',\n",
       " 'Unbelievable_(miniseries)',\n",
       " 'Trinkets_(TV_series)',\n",
       " 'Trailer_Park_Boys:_The_Animated_Series',\n",
       " 'Twelve_Forever',\n",
       " 'Turn_Up_Charlie']"
      ]
     },
     "execution_count": null,
     "metadata": {},
     "output_type": "execute_result"
    }
   ],
   "source": [
    "wikipedia_slugs = wiki_crawl[~wiki_crawl['url'].str.contains('[a-zA-Z]:[a-zA-Z]')]['url'].str.rsplit('/').str[-1].tolist()\n",
    "wikipedia_slugs[:30]"
   ]
  },
  {
   "cell_type": "markdown",
   "id": "65a7e88e-7f57-4ab8-9ee8-64c13b84fb7e",
   "metadata": {},
   "source": [
    "## Go through the slugs, and extract entities and links"
   ]
  },
  {
   "cell_type": "code",
   "execution_count": null,
   "id": "f0007ba9-9bef-4bf3-82d4-d45c04cc22b4",
   "metadata": {},
   "outputs": [],
   "source": [
    "entity_responses = []\n",
    "errors = []\n",
    "for i, slug in enumerate(wikipedia_slugs):\n",
    "    try:\n",
    "        print(f'{i:>4}Getting: /{slug}', end='\\r')\n",
    "        wikipage = wikipedia_ner(slug)\n",
    "        entity_responses.append(wikipage)\n",
    "    except Exception as e:\n",
    "        err = (slug, str(e))\n",
    "        errors.append(err)\n",
    "        print('Error: ', err)"
   ]
  },
  {
   "cell_type": "markdown",
   "id": "15dbf4fa-0af7-4626-9b75-ca454695447d",
   "metadata": {},
   "source": [
    "## Create the training file"
   ]
  },
  {
   "cell_type": "code",
   "execution_count": null,
   "id": "8fc4cd85-56b3-4f07-9692-3b95266ff2d4",
   "metadata": {},
   "outputs": [],
   "source": [
    "with open('training_data_wikipedia_ner.jsonl', 'w') as file:\n",
    "    for resp in entity_responses:\n",
    "        prompt = json.loads(resp)['prompt']\n",
    "        completion = json.loads(resp)['completion']\n",
    "        if prompt:\n",
    "            print(json.dumps({'prompt': prompt, 'completion': completion}), file=file)"
   ]
  },
  {
   "cell_type": "markdown",
   "id": "eafbf25d-013d-45e1-b07e-628e3188c636",
   "metadata": {},
   "source": [
    "With this, our training model is ready, which is a simple set of prompt/completion pairs that can be uploaded and used with ChatGPT. \n",
    "\n",
    "You can test it out on this live [entity extraction app](https://adver.tools/entity-extraction/), and see how it works."
   ]
  }
 ],
 "metadata": {
  "kernelspec": {
   "display_name": "python3",
   "language": "python",
   "name": "python3"
  },
  "widgets": {
   "application/vnd.jupyter.widget-state+json": {
    "state": {},
    "version_major": 2,
    "version_minor": 0
   }
  }
 },
 "nbformat": 4,
 "nbformat_minor": 5
}
